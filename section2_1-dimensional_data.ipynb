{
 "cells": [
  {
   "cell_type": "markdown",
   "metadata": {},
   "source": [
    "# 2.2 <ジニ係数>"
   ]
  },
  {
   "cell_type": "code",
   "execution_count": 1,
   "metadata": {},
   "outputs": [],
   "source": [
    "import numpy as np\n",
    "import pandas as pd"
   ]
  },
  {
   "cell_type": "code",
   "execution_count": 8,
   "metadata": {},
   "outputs": [],
   "source": [
    "def dates(lenlist):\n",
    "    return pd.date_range(\"20240330\", periods=len(lenlist))\n",
    "list_A = np.array([0,3,3,5,5,5,5,7,7,10])\n",
    "list_B = np.array([0,1,2,3,5,5,7,8,9,10])\n",
    "list_C = np.array([3,4,4,5,5,5,5,6,6,7])\n",
    "series_A = pd.Series(list_A, index=dates(list_A), name=\"A\", copy=True)\n",
    "series_B = pd.Series(list_B, index=dates(list_B), name=\"B\", copy=True)\n",
    "series_C = pd.Series(list_C, index=dates(list_C), name=\"C\", copy=True)\n",
    "df=pd.DataFrame({series_A.name:series_A,series_B.name:series_B,series_C.name:series_C})"
   ]
  },
  {
   "cell_type": "code",
   "execution_count": 22,
   "metadata": {},
   "outputs": [
    {
     "data": {
      "text/plain": [
       "DatetimeIndex(['2024-03-30', '2024-03-31', '2024-04-01', '2024-04-02',\n",
       "               '2024-04-03', '2024-04-04', '2024-04-05', '2024-04-06',\n",
       "               '2024-04-07', '2024-04-08'],\n",
       "              dtype='datetime64[ns]', freq='D')"
      ]
     },
     "execution_count": 22,
     "metadata": {},
     "output_type": "execute_result"
    }
   ],
   "source": [
    "df.index"
   ]
  },
  {
   "cell_type": "code",
   "execution_count": 21,
   "metadata": {},
   "outputs": [
    {
     "data": {
      "text/plain": [
       "Index(['A', 'B', 'C'], dtype='object')"
      ]
     },
     "execution_count": 21,
     "metadata": {},
     "output_type": "execute_result"
    }
   ],
   "source": [
    "df.columns"
   ]
  },
  {
   "cell_type": "code",
   "execution_count": null,
   "metadata": {},
   "outputs": [],
   "source": []
  }
 ],
 "metadata": {
  "kernelspec": {
   "display_name": ".venv",
   "language": "python",
   "name": "python3"
  },
  "language_info": {
   "codemirror_mode": {
    "name": "ipython",
    "version": 3
   },
   "file_extension": ".py",
   "mimetype": "text/x-python",
   "name": "python",
   "nbconvert_exporter": "python",
   "pygments_lexer": "ipython3",
   "version": "3.12.2"
  }
 },
 "nbformat": 4,
 "nbformat_minor": 2
}
